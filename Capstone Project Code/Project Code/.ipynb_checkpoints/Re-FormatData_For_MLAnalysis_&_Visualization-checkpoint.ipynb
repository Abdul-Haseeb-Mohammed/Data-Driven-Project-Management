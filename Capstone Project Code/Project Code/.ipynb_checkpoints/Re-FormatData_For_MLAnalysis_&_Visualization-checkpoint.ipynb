{
 "cells": [
  {
   "cell_type": "code",
   "execution_count": 1,
   "id": "1df88dec",
   "metadata": {},
   "outputs": [],
   "source": [
    "import pandas as pd\n",
    "import warnings\n",
    "warnings.filterwarnings(\"ignore\", category=FutureWarning, message=\"Series.__getitem__ treating keys as positions is deprecated\")"
   ]
  },
  {
   "cell_type": "code",
   "execution_count": 2,
   "id": "7faff18a",
   "metadata": {},
   "outputs": [],
   "source": [
    "project_dict = {\n",
    "    \"P018 - P01 Airport Carpark\": [\"2011-04-01\",\"2011-05-01\",\"2011-06-01\",\"2011-07-01\",\"2011-08-01\",\n",
    "                                   \"2011-09-01\",\"2011-10-01\",\"2011-11-01\"],\n",
    "    \"P019 - P02 Landfill Cell\": [\"2011-04-01\", \"2011-05-01\", \"2011-06-01\", \"2011-07-01\"],\n",
    "    \"P020 - P03 Regional Bypass Road\": [\"2011-10-01\", \"2011-11-01\", \"2011-12-01\", \"2012-01-01\", \"2012-02-01\", \"2012-03-01\",\n",
    "                                        \"2012-04-01\", \"2012-05-01\", \"2012-06-01\"],\n",
    "    \"P021 - P04 Regional Arterial Pavement Repairs\":     [\"2011-05-01\", \"2011-06-01\", \"2011-07-01\", \"2011-08-01\", \"2011-09-01\",\n",
    "                                                      \"2011-10-01\", \"2011-11-01\", \"2012-09-01\"],\n",
    "    \"P022 - P05 Semi-Urban Road Reconstruction\": [\"2011-09-01\",\"2011-10-01\",\"2011-11-01\",\"2011-12-01\",\"2012-01-01\",\"2012-02-01\",\n",
    "                                                  \"2012-03-01\",\"2012-04-01\",\"2012-05-01\",\"2012-06-01\",\"2012-07-01\",\"2012-08-01\",\n",
    "                                                  \"2012-09-01\",\"2012-10-01\",\"2012-11-01\"],\n",
    "    \"P024 - P06 Urban Road Reconstruction\": [\"2011-10-01\",\"2011-11-01\",\"2011-12-01\",\"2012-01-01\",\"2012-02-01\",\"2012-03-01\",\n",
    "                                             \"2012-04-01\",\"2012-05-01\",\"2012-06-01\",\"2012-07-01\",\"2012-08-01\",\"2012-09-01\",\n",
    "                                             \"2012-10-01\",\"2012-11-01\"],\n",
    "    \"P038 - P17 Marina Sub-division\":[\"2014-04-01\",\"2014-05-01\",\"2014-06-01\",\"2014-07-01\",\"2014-08-01\",\"2014-09-01\",\n",
    "                                      \"2014-10-01\",\"2014-11-01\",\"2014-12-01\",\"2015-01-01\",\"2015-02-01\",\"2015-03-01\",\n",
    "                                      \"2015-04-01\",\"2015-05-01\"],\n",
    "    \"P039 - P18 Rural Road Repairs\":[\"2014-09-01\",\"2014-10-01\",\"2014-11-01\",\"2014-12-01\",\"2015-01-01\",\"2015-02-01\",\n",
    "                                     \"2015-03-01\"]\n",
    "}"
   ]
  },
  {
   "cell_type": "code",
   "execution_count": 3,
   "id": "c797ef7e",
   "metadata": {},
   "outputs": [
    {
     "name": "stdout",
     "output_type": "stream",
     "text": [
      "Number of rows in P018 - P01 Airport Carpark is 504\n",
      "Number of rows in P019 - P02 Landfill Cell is 116\n",
      "Number of rows in P020 - P03 Regional Bypass Road is 405\n",
      "Number of rows in P021 - P04 Regional Arterial Pavement Repairs is 96\n",
      "Number of rows in P022 - P05 Semi-Urban Road Reconstruction is 516\n",
      "Number of rows in P024 - P06 Urban Road Reconstruction is 896\n",
      "Number of rows in P038 - P17 Marina Sub-division is 868\n",
      "Number of rows in P039 - P18 Rural Road Repairs is 231\n"
     ]
    }
   ],
   "source": [
    "for project_name in project_dict.keys():\n",
    "    path1 = 'C:/Users/abdul/Documents/GitHub/Data-Driven-Project-Management/Capstone Project Code/Raw_Data_New/' + project_name + '.xlsx'\n",
    "    df = pd.read_excel(path1,sheet_name='Portfolio WBS')\n",
    "    df_formatted = pd.DataFrame(columns = list(df.columns[0:14]))\n",
    "    new_columns_df = pd.DataFrame(columns = ['Date','Project Name','Start','End'])\n",
    "    df_formatted = pd.concat([df_formatted, new_columns_df], axis=1)\n",
    "    \n",
    "    groups =  sum(col.startswith('PV') for col in df.columns)\n",
    "    \n",
    "    to_find_duration_of_wbs = list(df.columns[9:])\n",
    "    num_sets = len(to_find_duration_of_wbs) // 5\n",
    "    \n",
    "    index = 0\n",
    "    for i in range(0,df.shape[0]):\n",
    "        \n",
    "        for_start = [col for col in to_find_duration_of_wbs if df.loc[i,col] > 0][0][-1]\n",
    "        if for_start.isdigit():\n",
    "            start = int(for_start)\n",
    "        elif isinstance(for_start, str):\n",
    "            start = 0\n",
    "        start = project_dict[project_name][start]\n",
    "        \n",
    "        static_set_number = -1\n",
    "        for currSet in range(0, num_sets - 1):\n",
    "            cols_in_current_set = to_find_duration_of_wbs[currSet * 5: (currSet+1) * 5]\n",
    "            current_set = df.loc[i,cols_in_current_set]\n",
    "            cols_in_next_set = to_find_duration_of_wbs[ (currSet + 1) * 5: (currSet+2) * 5]\n",
    "            next_set = df.loc[i,cols_in_next_set]\n",
    "            equal = True\n",
    "            for j in range(len(current_set)):\n",
    "                if current_set[j] != next_set[j]:\n",
    "                    equal = False\n",
    "                    break\n",
    "            if equal:\n",
    "                pass\n",
    "            else:\n",
    "                static_set_number = currSet\n",
    "        if static_set_number != -1:\n",
    "            end = project_dict[project_name][static_set_number+1]\n",
    "        \n",
    "        \n",
    "        row_part1 = list(df.iloc[i,0:9].values)\n",
    "        k = 4\n",
    "        for j in range(0,groups):\n",
    "            k +=5\n",
    "            row_part2 = list(df.iloc[i,k:k+5].values)\n",
    "            row_part3 = [project_dict[project_name][j]]  + list([project_name]) + [start,end]\n",
    "            df_formatted.loc[index] = row_part1 + row_part2 + row_part3\n",
    "            index += 1\n",
    "    print(\"Number of rows in \" + project_name + \" is \" + str(len(df_formatted)))\n",
    "    path2 = 'C:/Users/abdul/Documents/GitHub/Data-Driven-Project-Management/Capstone Project Code/Processed_Data/DataForVisualization1_' + project_name + '.csv'\n",
    "    df_formatted.to_csv(path2,index=False)"
   ]
  },
  {
   "cell_type": "code",
   "execution_count": 4,
   "id": "9c3be3e1",
   "metadata": {},
   "outputs": [],
   "source": [
    "df1 = pd.read_csv('C:/Users/abdul/Documents/GitHub/Data-Driven-Project-Management/Capstone Project Code/Processed_Data/DataForVisualization1_P018 - P01 Airport Carpark.csv')\n",
    "df2 = pd.read_csv('C:/Users/abdul/Documents/GitHub/Data-Driven-Project-Management/Capstone Project Code/Processed_Data/DataForVisualization1_P019 - P02 Landfill Cell.csv')\n",
    "df3 = pd.read_csv('C:/Users/abdul/Documents/GitHub/Data-Driven-Project-Management/Capstone Project Code/Processed_Data/DataForVisualization1_P020 - P03 Regional Bypass Road.csv')\n",
    "df4 = pd.read_csv('C:/Users/abdul/Documents/GitHub/Data-Driven-Project-Management/Capstone Project Code/Processed_Data/DataForVisualization1_P021 - P04 Regional Arterial Pavement Repairs.csv')\n",
    "df5 = pd.read_csv('C:/Users/abdul/Documents/GitHub/Data-Driven-Project-Management/Capstone Project Code/Processed_Data/DataForVisualization1_P022 - P05 Semi-Urban Road Reconstruction.csv')\n",
    "df6 = pd.read_csv('C:/Users/abdul/Documents/GitHub/Data-Driven-Project-Management/Capstone Project Code/Processed_Data/DataForVisualization1_P024 - P06 Urban Road Reconstruction.csv')\n",
    "df7 = pd.read_csv('C:/Users/abdul/Documents/GitHub/Data-Driven-Project-Management/Capstone Project Code/Processed_Data/DataForVisualization1_P038 - P17 Marina Sub-division.csv')\n",
    "df8 = pd.read_csv('C:/Users/abdul/Documents/GitHub/Data-Driven-Project-Management/Capstone Project Code/Processed_Data/DataForVisualization1_P039 - P18 Rural Road Repairs.csv')\n",
    "\n",
    "df = pd.concat([df1,df2,df3,df4,df5,df6,df7,df8], ignore_index=True)\n",
    "df.to_csv('C:/Users/abdul/Documents/GitHub/Data-Driven-Project-Management/Capstone Project Code/Processed_Data/MergedDataForVisualization1.csv', index=False)"
   ]
  },
  {
   "cell_type": "code",
   "execution_count": 5,
   "id": "9928227f",
   "metadata": {},
   "outputs": [],
   "source": [
    "from dateutil.parser import parse\n",
    "df['Date'] = df[\"Date\"].apply(lambda x: parse(x))\n",
    "df['Start'] = df[\"Start\"].apply(lambda x: parse(x))\n",
    "df['End'] = df[\"End\"].apply(lambda x: parse(x))"
   ]
  },
  {
   "cell_type": "code",
   "execution_count": 6,
   "id": "272c010f",
   "metadata": {},
   "outputs": [],
   "source": [
    "for i in range(0, len(df)):\n",
    "    if i == 0:\n",
    "        df.loc[i, 'Planned Quantity'] = df.loc[i, 'PQ']\n",
    "        df.loc[i, 'Planned Value'] = df.loc[i, 'PV']\n",
    "        df.loc[i, 'Actual Quantity'] = df.loc[i, 'AQ']\n",
    "        df.loc[i, 'Actual Cost'] = df.loc[i, 'AC']\n",
    "        df.loc[i, 'Earned Value'] = df.loc[i, 'EV']\n",
    "        continue\n",
    "    if (df.loc[i, 'Portfolio WBS'] == df.loc[i-1, 'Portfolio WBS'] and\n",
    "        df.loc[i, 'Project Name'] == df.loc[i-1, 'Project Name'] and\n",
    "        ((df.loc[i, 'Date'].month == df.loc[i-1, 'Date'].month + 1) or \n",
    "         (df.loc[i, 'Date'].month == 1 and df.loc[i-1, 'Date'].month == 12 and df.loc[i, 'Date'].year == df.loc[i-1, 'Date'].year + 1))):\n",
    "        \n",
    "        df.loc[i, 'Planned Quantity'] = df.loc[i, 'PQ'] - df.loc[i-1, 'PQ']\n",
    "        df.loc[i, 'Planned Value'] = df.loc[i, 'PV'] - df.loc[i-1, 'PV']\n",
    "        df.loc[i, 'Actual Quantity'] = df.loc[i, 'AQ'] - df.loc[i-1, 'AQ']\n",
    "        df.loc[i, 'Actual Cost'] = df.loc[i, 'AC'] - df.loc[i-1, 'AC']\n",
    "        df.loc[i, 'Earned Value'] = df.loc[i, 'EV'] - df.loc[i-1, 'EV']\n",
    "    elif (df.loc[i, 'Portfolio WBS'] == df.loc[i+1, 'Portfolio WBS'] and\n",
    "        df.loc[i, 'Project Name'] == df.loc[i+1, 'Project Name'] and \n",
    "        df.loc[i,'Date'].date() == parse(project_dict[df.loc[0,'Project Name']][0]).date()):\n",
    "        df.loc[i, 'Planned Quantity'] = df.loc[i, 'PQ']\n",
    "        df.loc[i, 'Planned Value'] = df.loc[i, 'PV']\n",
    "        df.loc[i, 'Actual Quantity'] = df.loc[i, 'AQ']\n",
    "        df.loc[i, 'Actual Cost'] = df.loc[i, 'AC']\n",
    "        df.loc[i, 'Earned Value'] = df.loc[i, 'EV']"
   ]
  },
  {
   "cell_type": "code",
   "execution_count": 7,
   "id": "b1490e34",
   "metadata": {},
   "outputs": [],
   "source": [
    "df.to_csv('C:/Users/abdul/Documents/GitHub/Data-Driven-Project-Management/Capstone Project Code/Processed_Data/NewMergedData.csv', index=False)"
   ]
  },
  {
   "cell_type": "code",
   "execution_count": 8,
   "id": "8bfdbda6",
   "metadata": {
    "scrolled": true
   },
   "outputs": [
    {
     "name": "stdout",
     "output_type": "stream",
     "text": [
      "Number of rows to be removed: 1679\n",
      "Length of df before removing records where no work was done: 3632\n",
      "Length of df after removing records where no work was done: 1953\n"
     ]
    }
   ],
   "source": [
    "print(\"Number of rows to be removed:\",len(df[\n",
    "    (df['Planned Quantity'] == 0) &\n",
    "    (df['Planned Value'] == 0) &\n",
    "    (df['Actual Quantity'] == 0) &\n",
    "    (df['Actual Cost'] == 0) &\n",
    "    (df['Earned Value'] == 0)]\n",
    "))\n",
    "\n",
    "print(\"Length of df before removing records where no work was done:\",len(df))\n",
    "df = df[~(\n",
    "    (df['Planned Quantity'] == 0) &\n",
    "    (df['Planned Value'] == 0) &\n",
    "    (df['Actual Quantity'] == 0) &\n",
    "    (df['Actual Cost'] == 0) &\n",
    "    (df['Earned Value'] == 0) ) ]\n",
    "\n",
    "\n",
    "print(\"Length of df after removing records where no work was done:\",len(df))"
   ]
  },
  {
   "cell_type": "code",
   "execution_count": 9,
   "id": "819f504f",
   "metadata": {},
   "outputs": [],
   "source": [
    "df.to_csv('C:/Users/abdul/Documents/GitHub/Data-Driven-Project-Management/Capstone Project Code/Processed_Data/NewMergedDataFiltered.csv', index=False)"
   ]
  }
 ],
 "metadata": {
  "kernelspec": {
   "display_name": "Python 3 (ipykernel)",
   "language": "python",
   "name": "python3"
  },
  "language_info": {
   "codemirror_mode": {
    "name": "ipython",
    "version": 3
   },
   "file_extension": ".py",
   "mimetype": "text/x-python",
   "name": "python",
   "nbconvert_exporter": "python",
   "pygments_lexer": "ipython3",
   "version": "3.11.5"
  }
 },
 "nbformat": 4,
 "nbformat_minor": 5
}
