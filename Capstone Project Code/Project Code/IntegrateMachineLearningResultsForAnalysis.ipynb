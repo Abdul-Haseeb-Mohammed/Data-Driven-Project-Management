{
 "cells": [
  {
   "cell_type": "code",
   "execution_count": 1,
   "id": "1df88dec",
   "metadata": {},
   "outputs": [],
   "source": [
    "import pandas as pd"
   ]
  },
  {
   "cell_type": "code",
   "execution_count": 2,
   "id": "7faff18a",
   "metadata": {},
   "outputs": [],
   "source": [
    "project_dict = {\n",
    "    \"P018 - P01 Airport Carpark\": [\"2011-04-01\",\"2011-05-01\",\"2011-06-01\",\"2011-07-01\",\"2011-08-01\",\n",
    "                                   \"2011-09-01\",\"2011-10-01\",\"2011-11-01\"],\n",
    "    \"P019 - P02 Landfill Cell\": [\"2011-04-01\", \"2011-05-01\", \"2011-06-01\", \"2011-07-01\"],\n",
    "    \"P020 - P03 Regional Bypass Road\": [\"2011-10-01\", \"2011-11-01\", \"2011-12-01\", \"2012-01-01\", \"2012-02-01\", \"2012-03-01\",\n",
    "                                        \"2012-04-01\", \"2012-05-01\", \"2012-06-01\"],\n",
    "    \"P021 - P04 Regional Arterial Pavement Repairs\":     [\"2011-05-01\", \"2011-06-01\", \"2011-07-01\", \"2011-08-01\", \"2011-09-01\",\n",
    "                                                      \"2011-10-01\", \"2011-11-01\", \"2012-09-01\"],\n",
    "    \"P022 - P05 Semi-Urban Road Reconstruction\": [\"2011-09-01\",\"2011-10-01\",\"2011-11-01\",\"2011-12-01\",\"2012-01-01\",\"2012-02-01\",\n",
    "                                                  \"2012-03-01\",\"2012-04-01\",\"2012-05-01\",\"2012-06-01\",\"2012-07-01\",\"2012-08-01\",\n",
    "                                                  \"2012-09-01\",\"2012-10-01\",\"2012-11-01\"],\n",
    "    \"P024 - P06 Urban Road Reconstruction\": [\"2011-10-01\",\"2011-11-01\",\"2011-12-01\",\"2012-01-01\",\"2012-02-01\",\"2012-03-01\",\n",
    "                                             \"2012-04-01\",\"2012-05-01\",\"2012-06-01\",\"2012-07-01\",\"2012-08-01\",\"2012-09-01\",\n",
    "                                             \"2012-10-01\",\"2012-11-01\"],\n",
    "    \"P038 - P17 Marina Sub-division\":[\"2014-04-01\",\"2014-05-01\",\"2014-06-01\",\"2014-07-01\",\"2014-08-01\",\"2014-09-01\",\n",
    "                                      \"2014-10-01\",\"2014-11-01\",\"2014-12-01\",\"2015-01-01\",\"2015-02-01\",\"2015-03-01\",\n",
    "                                      \"2015-04-01\",\"2015-05-01\"],\n",
    "    \"P039 - P18 Rural Road Repairs\":[\"2014-09-01\",\"2014-10-01\",\"2014-11-01\",\"2014-12-01\",\"2015-01-01\",\"2015-02-01\",\n",
    "                                     \"2015-03-01\"]\n",
    "}"
   ]
  },
  {
   "cell_type": "code",
   "execution_count": 3,
   "id": "7c639d5e-9063-49c7-8027-2d33874a564b",
   "metadata": {},
   "outputs": [],
   "source": [
    "all_dfs = []\n",
    "\n",
    "use_cols = ['Date', 'Description', 'Resource', 'Unit', 'Quantity', 'Rate', 'Total', 'Portfolio WBS']\n",
    "\n",
    "for project_name, dates in project_dict.items():\n",
    "    path1 = rf'C:\\Users\\abdul\\Documents\\GitHub\\Data-Driven-Project-Management\\Capstone Project Code\\Raw_Data_New\\{project_name}.xlsx'\n",
    "    df = pd.read_excel(path1, sheet_name='Actual Costs', usecols=use_cols)\n",
    "    \n",
    "    # Drop rows where the first column is NaN or empty\n",
    "    df = df.dropna(subset=[df.columns[0]])\n",
    "    df = df[df[df.columns[0]].str.strip() != '']\n",
    "    \n",
    "    # Add the project name as a new column\n",
    "    df['Project Name'] = project_name\n",
    "    \n",
    "    # Append the DataFrame to the list\n",
    "    all_dfs.append(df)\n",
    "\n",
    "# Concatenate all DataFrames\n",
    "final_df = pd.concat(all_dfs, ignore_index=True)"
   ]
  },
  {
   "cell_type": "code",
   "execution_count": 4,
   "id": "6316049d-dbe9-4c76-86a9-64b84a3ca1c0",
   "metadata": {},
   "outputs": [
    {
     "data": {
      "text/plain": [
       "Index(['Date', 'Description', 'Resource', 'Unit', 'Quantity', 'Rate', 'Total',\n",
       "       'Portfolio WBS', 'Project Name'],\n",
       "      dtype='object')"
      ]
     },
     "execution_count": 4,
     "metadata": {},
     "output_type": "execute_result"
    }
   ],
   "source": [
    "final_df.columns"
   ]
  },
  {
   "cell_type": "code",
   "execution_count": 5,
   "id": "47d5c8b1-da8e-4f23-8ab2-1825cf134fdd",
   "metadata": {},
   "outputs": [
    {
     "data": {
      "text/plain": [
       "16756"
      ]
     },
     "execution_count": 5,
     "metadata": {},
     "output_type": "execute_result"
    }
   ],
   "source": [
    "len(final_df)"
   ]
  },
  {
   "cell_type": "code",
   "execution_count": 6,
   "id": "6cb1c254-2b3d-4f81-9cac-cd970f83ef68",
   "metadata": {},
   "outputs": [
    {
     "data": {
      "text/html": [
       "<div>\n",
       "<style scoped>\n",
       "    .dataframe tbody tr th:only-of-type {\n",
       "        vertical-align: middle;\n",
       "    }\n",
       "\n",
       "    .dataframe tbody tr th {\n",
       "        vertical-align: top;\n",
       "    }\n",
       "\n",
       "    .dataframe thead th {\n",
       "        text-align: right;\n",
       "    }\n",
       "</style>\n",
       "<table border=\"1\" class=\"dataframe\">\n",
       "  <thead>\n",
       "    <tr style=\"text-align: right;\">\n",
       "      <th></th>\n",
       "      <th>Date</th>\n",
       "      <th>Description</th>\n",
       "      <th>Resource</th>\n",
       "      <th>Unit</th>\n",
       "      <th>Quantity</th>\n",
       "      <th>Rate</th>\n",
       "      <th>Total</th>\n",
       "      <th>Portfolio WBS</th>\n",
       "      <th>Project Name</th>\n",
       "    </tr>\n",
       "  </thead>\n",
       "  <tbody>\n",
       "    <tr>\n",
       "      <th>2643</th>\n",
       "      <td>2011-07-31 00:00:00</td>\n",
       "      <td>Credit for Bond on Equipment</td>\n",
       "      <td>GCL</td>\n",
       "      <td>item</td>\n",
       "      <td>1.000</td>\n",
       "      <td>-4891.81</td>\n",
       "      <td>-4891.8100</td>\n",
       "      <td>223</td>\n",
       "      <td>P019 - P02 Landfill Cell</td>\n",
       "    </tr>\n",
       "    <tr>\n",
       "      <th>13173</th>\n",
       "      <td>2014-05-22 00:00:00</td>\n",
       "      <td>Pincers Carpenter</td>\n",
       "      <td>Small Tools</td>\n",
       "      <td></td>\n",
       "      <td>1.000</td>\n",
       "      <td>-13.05</td>\n",
       "      <td>-13.0500</td>\n",
       "      <td>905</td>\n",
       "      <td>P038 - P17 Marina Sub-division</td>\n",
       "    </tr>\n",
       "    <tr>\n",
       "      <th>13543</th>\n",
       "      <td>2014-09-24 00:00:00</td>\n",
       "      <td>8 x PVC  Bend</td>\n",
       "      <td>PVC Stormwater</td>\n",
       "      <td></td>\n",
       "      <td>1.000</td>\n",
       "      <td>-130.56</td>\n",
       "      <td>-130.5600</td>\n",
       "      <td>ETC</td>\n",
       "      <td>P038 - P17 Marina Sub-division</td>\n",
       "    </tr>\n",
       "    <tr>\n",
       "      <th>13544</th>\n",
       "      <td>2014-09-26 00:00:00</td>\n",
       "      <td>1 x PVC  Bend</td>\n",
       "      <td>PVC Stormwater</td>\n",
       "      <td></td>\n",
       "      <td>1.000</td>\n",
       "      <td>-14.52</td>\n",
       "      <td>-14.5200</td>\n",
       "      <td>ETC</td>\n",
       "      <td>P038 - P17 Marina Sub-division</td>\n",
       "    </tr>\n",
       "    <tr>\n",
       "      <th>13592</th>\n",
       "      <td>2014-12-08 00:00:00</td>\n",
       "      <td>Credit note for Invoice 10588 Charged Caratage...</td>\n",
       "      <td>Rock</td>\n",
       "      <td></td>\n",
       "      <td>23.895</td>\n",
       "      <td>-1.72</td>\n",
       "      <td>-41.0994</td>\n",
       "      <td>QMR</td>\n",
       "      <td>P038 - P17 Marina Sub-division</td>\n",
       "    </tr>\n",
       "    <tr>\n",
       "      <th>13637</th>\n",
       "      <td>2014-10-14 00:00:00</td>\n",
       "      <td>Credit Note for 143789285</td>\n",
       "      <td>DWV Bend</td>\n",
       "      <td></td>\n",
       "      <td>1.000</td>\n",
       "      <td>-134.18</td>\n",
       "      <td>-134.1800</td>\n",
       "      <td>SWP</td>\n",
       "      <td>P038 - P17 Marina Sub-division</td>\n",
       "    </tr>\n",
       "    <tr>\n",
       "      <th>13640</th>\n",
       "      <td>2014-06-04 00:00:00</td>\n",
       "      <td>Credit Note for Exosol Gaurd</td>\n",
       "      <td>Ecosol Net Guard</td>\n",
       "      <td></td>\n",
       "      <td>1.000</td>\n",
       "      <td>-1500.00</td>\n",
       "      <td>-1500.0000</td>\n",
       "      <td>SWPC</td>\n",
       "      <td>P038 - P17 Marina Sub-division</td>\n",
       "    </tr>\n",
       "    <tr>\n",
       "      <th>16228</th>\n",
       "      <td>2014-12-16 00:00:00</td>\n",
       "      <td>Credit on Three Room Office, Male &amp; Female Toi...</td>\n",
       "      <td>Building Facilites</td>\n",
       "      <td></td>\n",
       "      <td>-1.000</td>\n",
       "      <td>255.40</td>\n",
       "      <td>-255.4000</td>\n",
       "      <td>903</td>\n",
       "      <td>P039 - P18 Rural Road Repairs</td>\n",
       "    </tr>\n",
       "    <tr>\n",
       "      <th>16231</th>\n",
       "      <td>2014-12-16 00:00:00</td>\n",
       "      <td>Credit on Folding table</td>\n",
       "      <td>Crib Facilities</td>\n",
       "      <td></td>\n",
       "      <td>-1.000</td>\n",
       "      <td>3.68</td>\n",
       "      <td>-3.6800</td>\n",
       "      <td>903</td>\n",
       "      <td>P039 - P18 Rural Road Repairs</td>\n",
       "    </tr>\n",
       "    <tr>\n",
       "      <th>16238</th>\n",
       "      <td>2015-01-01 00:00:00</td>\n",
       "      <td>Credit Note for the hire of Building Facitily ...</td>\n",
       "      <td>Building Facilites</td>\n",
       "      <td></td>\n",
       "      <td>1.000</td>\n",
       "      <td>-1222.67</td>\n",
       "      <td>-1222.6700</td>\n",
       "      <td>903</td>\n",
       "      <td>P039 - P18 Rural Road Repairs</td>\n",
       "    </tr>\n",
       "    <tr>\n",
       "      <th>16297</th>\n",
       "      <td>2014-12-16 00:00:00</td>\n",
       "      <td>Credit on Damage Waiver on Toilets &amp; office bu...</td>\n",
       "      <td>Damage Waiver</td>\n",
       "      <td></td>\n",
       "      <td>-1.000</td>\n",
       "      <td>35.74</td>\n",
       "      <td>-35.7400</td>\n",
       "      <td>904</td>\n",
       "      <td>P039 - P18 Rural Road Repairs</td>\n",
       "    </tr>\n",
       "    <tr>\n",
       "      <th>16298</th>\n",
       "      <td>2014-12-16 00:00:00</td>\n",
       "      <td>Credit on Damage Waiver on folding table</td>\n",
       "      <td>Damage Waiver</td>\n",
       "      <td></td>\n",
       "      <td>-1.000</td>\n",
       "      <td>0.52</td>\n",
       "      <td>-0.5200</td>\n",
       "      <td>904</td>\n",
       "      <td>P039 - P18 Rural Road Repairs</td>\n",
       "    </tr>\n",
       "  </tbody>\n",
       "</table>\n",
       "</div>"
      ],
      "text/plain": [
       "                      Date                                        Description  \\\n",
       "2643   2011-07-31 00:00:00                       Credit for Bond on Equipment   \n",
       "13173  2014-05-22 00:00:00                                  Pincers Carpenter   \n",
       "13543  2014-09-24 00:00:00                                      8 x PVC  Bend   \n",
       "13544  2014-09-26 00:00:00                                      1 x PVC  Bend   \n",
       "13592  2014-12-08 00:00:00  Credit note for Invoice 10588 Charged Caratage...   \n",
       "13637  2014-10-14 00:00:00                          Credit Note for 143789285   \n",
       "13640  2014-06-04 00:00:00                       Credit Note for Exosol Gaurd   \n",
       "16228  2014-12-16 00:00:00  Credit on Three Room Office, Male & Female Toi...   \n",
       "16231  2014-12-16 00:00:00                            Credit on Folding table   \n",
       "16238  2015-01-01 00:00:00  Credit Note for the hire of Building Facitily ...   \n",
       "16297  2014-12-16 00:00:00  Credit on Damage Waiver on Toilets & office bu...   \n",
       "16298  2014-12-16 00:00:00           Credit on Damage Waiver on folding table   \n",
       "\n",
       "                        Resource   Unit  Quantity     Rate      Total  \\\n",
       "2643   GCL                         item     1.000 -4891.81 -4891.8100   \n",
       "13173  Small Tools                          1.000   -13.05   -13.0500   \n",
       "13543  PVC Stormwater                       1.000  -130.56  -130.5600   \n",
       "13544  PVC Stormwater                       1.000   -14.52   -14.5200   \n",
       "13592  Rock                                23.895    -1.72   -41.0994   \n",
       "13637  DWV Bend                             1.000  -134.18  -134.1800   \n",
       "13640  Ecosol Net Guard                     1.000 -1500.00 -1500.0000   \n",
       "16228  Building Facilites                  -1.000   255.40  -255.4000   \n",
       "16231  Crib Facilities                     -1.000     3.68    -3.6800   \n",
       "16238  Building Facilites                   1.000 -1222.67 -1222.6700   \n",
       "16297  Damage Waiver                       -1.000    35.74   -35.7400   \n",
       "16298  Damage Waiver                       -1.000     0.52    -0.5200   \n",
       "\n",
       "      Portfolio WBS                    Project Name  \n",
       "2643            223        P019 - P02 Landfill Cell  \n",
       "13173           905  P038 - P17 Marina Sub-division  \n",
       "13543           ETC  P038 - P17 Marina Sub-division  \n",
       "13544           ETC  P038 - P17 Marina Sub-division  \n",
       "13592           QMR  P038 - P17 Marina Sub-division  \n",
       "13637           SWP  P038 - P17 Marina Sub-division  \n",
       "13640          SWPC  P038 - P17 Marina Sub-division  \n",
       "16228           903   P039 - P18 Rural Road Repairs  \n",
       "16231           903   P039 - P18 Rural Road Repairs  \n",
       "16238           903   P039 - P18 Rural Road Repairs  \n",
       "16297           904   P039 - P18 Rural Road Repairs  \n",
       "16298           904   P039 - P18 Rural Road Repairs  "
      ]
     },
     "execution_count": 6,
     "metadata": {},
     "output_type": "execute_result"
    }
   ],
   "source": [
    "final_df[ (final_df['Quantity'] < 0) | (final_df['Rate'] < 0) | (final_df['Total'] < 0)]"
   ]
  },
  {
   "cell_type": "code",
   "execution_count": 7,
   "id": "1917891f-1ec8-47e1-b1a0-8b71a9713d48",
   "metadata": {
    "scrolled": true
   },
   "outputs": [
    {
     "name": "stdout",
     "output_type": "stream",
     "text": [
      "rows in Merged actual cost after removing these rows 16744\n"
     ]
    }
   ],
   "source": [
    "condition = (final_df['Quantity'] < 0) | (final_df['Rate'] < 0) | (final_df['Total'] < 0)\n",
    "\n",
    "filtered_df = final_df[~condition]\n",
    "\n",
    "print(\"rows in Merged actual cost after removing these rows\",len(filtered_df))"
   ]
  },
  {
   "cell_type": "code",
   "execution_count": 8,
   "id": "f0085db0-d621-4e43-8b97-40f482705e6c",
   "metadata": {},
   "outputs": [
    {
     "data": {
      "text/plain": [
       "Date              object\n",
       "Description       object\n",
       "Resource          object\n",
       "Unit              object\n",
       "Quantity         float64\n",
       "Rate             float64\n",
       "Total            float64\n",
       "Portfolio WBS     object\n",
       "Project Name      object\n",
       "dtype: object"
      ]
     },
     "execution_count": 8,
     "metadata": {},
     "output_type": "execute_result"
    }
   ],
   "source": [
    "filtered_df.dtypes"
   ]
  },
  {
   "cell_type": "code",
   "execution_count": 9,
   "id": "329ba8a8-f2e0-4c70-a809-270bc82f5f9b",
   "metadata": {},
   "outputs": [],
   "source": [
    "filtered_df.loc[:, 'Date'] = pd.to_datetime(filtered_df['Date']).dt.date"
   ]
  },
  {
   "cell_type": "code",
   "execution_count": 10,
   "id": "2c0c5653-558f-47e4-ba2d-74d74d1ac54a",
   "metadata": {},
   "outputs": [],
   "source": [
    "uom_mapping = {\n",
    "    'hrs': 'hrs',\n",
    "    'hr': 'hrs',\n",
    "    'Hr   ': 'hrs',\n",
    "    'hrs  ': 'hrs',\n",
    "    'hr   ': 'hrs',\n",
    "    \n",
    "    'week': 'weeks',\n",
    "    'weeks': 'weeks',\n",
    "    'week ': 'weeks',\n",
    "    'Weeks': 'weeks',\n",
    "    \n",
    "    'day': 'days',\n",
    "    'days': 'days',\n",
    "    \n",
    "    'item': 'item',\n",
    "    'item ': 'item',\n",
    "    'Item ': 'item',\n",
    "    \n",
    "    'm3': 'm3',\n",
    "    \n",
    "    'm2': 'm2',\n",
    "    'm2   ': 'm2',\n",
    "    \n",
    "    'tonne': 'tonne',\n",
    "    'Tonne': 'tonne',\n",
    "    \n",
    "    'each': 'each',\n",
    "    'each ': 'each',\n",
    "    \n",
    "    'm': 'm',\n",
    "    'm    ': 'm',\n",
    "    \n",
    "    'month': 'month',\n",
    "    \n",
    "    'nights': 'nights',\n",
    "    'Night': 'nights',\n",
    "    \n",
    "    'cum  ': 'cum',\n",
    "    'sqm  ': 'sqm',\n",
    "    \n",
    "    'none': 'none',\n",
    "    '     ': 'none',\n",
    "    '':'none',\n",
    "    'nan': 'none'\n",
    "}"
   ]
  },
  {
   "cell_type": "code",
   "execution_count": 11,
   "id": "ea7d8ede-7812-42a7-9fd2-bce80c10aa4f",
   "metadata": {},
   "outputs": [
    {
     "name": "stderr",
     "output_type": "stream",
     "text": [
      "C:\\Users\\abdul\\AppData\\Local\\Temp\\ipykernel_18680\\166820372.py:1: SettingWithCopyWarning: \n",
      "A value is trying to be set on a copy of a slice from a DataFrame.\n",
      "Try using .loc[row_indexer,col_indexer] = value instead\n",
      "\n",
      "See the caveats in the documentation: https://pandas.pydata.org/pandas-docs/stable/user_guide/indexing.html#returning-a-view-versus-a-copy\n",
      "  filtered_df['Unit'] = filtered_df['Unit'].fillna('none')\n",
      "C:\\Users\\abdul\\AppData\\Local\\Temp\\ipykernel_18680\\166820372.py:2: SettingWithCopyWarning: \n",
      "A value is trying to be set on a copy of a slice from a DataFrame.\n",
      "Try using .loc[row_indexer,col_indexer] = value instead\n",
      "\n",
      "See the caveats in the documentation: https://pandas.pydata.org/pandas-docs/stable/user_guide/indexing.html#returning-a-view-versus-a-copy\n",
      "  filtered_df['Unit'] = filtered_df['Unit'].str.strip().replace(uom_mapping)\n",
      "C:\\Users\\abdul\\AppData\\Local\\Temp\\ipykernel_18680\\166820372.py:3: SettingWithCopyWarning: \n",
      "A value is trying to be set on a copy of a slice from a DataFrame.\n",
      "Try using .loc[row_indexer,col_indexer] = value instead\n",
      "\n",
      "See the caveats in the documentation: https://pandas.pydata.org/pandas-docs/stable/user_guide/indexing.html#returning-a-view-versus-a-copy\n",
      "  filtered_df['Unit'] = filtered_df['Unit'].str.lower()\n"
     ]
    }
   ],
   "source": [
    "filtered_df['Unit'] = filtered_df['Unit'].fillna('none')\n",
    "filtered_df['Unit'] = filtered_df['Unit'].str.strip().replace(uom_mapping)\n",
    "filtered_df['Unit'] = filtered_df['Unit'].str.lower()"
   ]
  },
  {
   "cell_type": "code",
   "execution_count": 12,
   "id": "7bfa8c0d-3409-4406-9dc0-168648183978",
   "metadata": {},
   "outputs": [
    {
     "data": {
      "text/plain": [
       "array(['none', 'hrs', 'days', 'weeks', nan, 'item', 'tonne', 'm2', 'drum',\n",
       "       'ea', 'month', 'each', 'ls', 'bcm', 'hole', 'm³', 'hr', 'lm', 'm',\n",
       "       'lump'], dtype=object)"
      ]
     },
     "execution_count": 12,
     "metadata": {},
     "output_type": "execute_result"
    }
   ],
   "source": [
    "filtered_df['Unit'].unique()"
   ]
  },
  {
   "cell_type": "code",
   "execution_count": 13,
   "id": "664e3250-5ce4-48a5-92b5-d6b4430ba8f7",
   "metadata": {},
   "outputs": [
    {
     "name": "stderr",
     "output_type": "stream",
     "text": [
      "C:\\Users\\abdul\\AppData\\Local\\Temp\\ipykernel_18680\\2390757417.py:1: SettingWithCopyWarning: \n",
      "A value is trying to be set on a copy of a slice from a DataFrame\n",
      "\n",
      "See the caveats in the documentation: https://pandas.pydata.org/pandas-docs/stable/user_guide/indexing.html#returning-a-view-versus-a-copy\n",
      "  filtered_df.rename(columns={\n"
     ]
    }
   ],
   "source": [
    "filtered_df.rename(columns={\n",
    "    'Description': 'Resource Description',\n",
    "    'Quantity': 'Resource Quantity',\n",
    "    'Date': 'Resource Date'\n",
    "}, inplace=True)\n"
   ]
  },
  {
   "cell_type": "code",
   "execution_count": 14,
   "id": "284d4203-c241-423b-ba1b-c81700bec0e0",
   "metadata": {},
   "outputs": [
    {
     "data": {
      "text/plain": [
       "Index(['Resource Date', 'Resource Description', 'Resource', 'Unit',\n",
       "       'Resource Quantity', 'Rate', 'Total', 'Portfolio WBS', 'Project Name'],\n",
       "      dtype='object')"
      ]
     },
     "execution_count": 14,
     "metadata": {},
     "output_type": "execute_result"
    }
   ],
   "source": [
    "filtered_df.columns"
   ]
  },
  {
   "cell_type": "code",
   "execution_count": 15,
   "id": "f46f41ff-6ed1-4439-a3d5-c982112a2676",
   "metadata": {},
   "outputs": [
    {
     "data": {
      "text/plain": [
       "Resource Date             0\n",
       "Resource Description      0\n",
       "Resource                  0\n",
       "Unit                      1\n",
       "Resource Quantity        19\n",
       "Rate                    197\n",
       "Total                   224\n",
       "Portfolio WBS             0\n",
       "Project Name              0\n",
       "dtype: int64"
      ]
     },
     "execution_count": 15,
     "metadata": {},
     "output_type": "execute_result"
    }
   ],
   "source": [
    "filtered_df.isnull().sum()"
   ]
  },
  {
   "cell_type": "code",
   "execution_count": 16,
   "id": "02de3fd7-73cd-4b0c-96b0-b71f2e04aeb8",
   "metadata": {},
   "outputs": [
    {
     "data": {
      "text/html": [
       "<div>\n",
       "<style scoped>\n",
       "    .dataframe tbody tr th:only-of-type {\n",
       "        vertical-align: middle;\n",
       "    }\n",
       "\n",
       "    .dataframe tbody tr th {\n",
       "        vertical-align: top;\n",
       "    }\n",
       "\n",
       "    .dataframe thead th {\n",
       "        text-align: right;\n",
       "    }\n",
       "</style>\n",
       "<table border=\"1\" class=\"dataframe\">\n",
       "  <thead>\n",
       "    <tr style=\"text-align: right;\">\n",
       "      <th></th>\n",
       "      <th>Resource Date</th>\n",
       "      <th>Resource Description</th>\n",
       "      <th>Resource</th>\n",
       "      <th>Unit</th>\n",
       "      <th>Resource Quantity</th>\n",
       "      <th>Rate</th>\n",
       "      <th>Total</th>\n",
       "      <th>Portfolio WBS</th>\n",
       "      <th>Project Name</th>\n",
       "    </tr>\n",
       "  </thead>\n",
       "  <tbody>\n",
       "    <tr>\n",
       "      <th>0</th>\n",
       "      <td>2011-04-13</td>\n",
       "      <td>Survey Team - Inv SI3621340</td>\n",
       "      <td>Surveyor</td>\n",
       "      <td>none</td>\n",
       "      <td>1.0</td>\n",
       "      <td>1400.00</td>\n",
       "      <td>1400.00</td>\n",
       "      <td>11</td>\n",
       "      <td>P018 - P01 Airport Carpark</td>\n",
       "    </tr>\n",
       "    <tr>\n",
       "      <th>1</th>\n",
       "      <td>2011-06-28</td>\n",
       "      <td>Survey Team - Inv SI3624729</td>\n",
       "      <td>Surveyor</td>\n",
       "      <td>none</td>\n",
       "      <td>1.0</td>\n",
       "      <td>4508.30</td>\n",
       "      <td>4508.30</td>\n",
       "      <td>11</td>\n",
       "      <td>P018 - P01 Airport Carpark</td>\n",
       "    </tr>\n",
       "    <tr>\n",
       "      <th>2</th>\n",
       "      <td>2011-07-13</td>\n",
       "      <td>Survey Team - Inv SI3626127</td>\n",
       "      <td>Surveyor</td>\n",
       "      <td>none</td>\n",
       "      <td>1.0</td>\n",
       "      <td>3163.45</td>\n",
       "      <td>3163.45</td>\n",
       "      <td>11</td>\n",
       "      <td>P018 - P01 Airport Carpark</td>\n",
       "    </tr>\n",
       "    <tr>\n",
       "      <th>3</th>\n",
       "      <td>2011-08-15</td>\n",
       "      <td>Survey Team - Inv SI3627800</td>\n",
       "      <td>Surveyor</td>\n",
       "      <td>none</td>\n",
       "      <td>1.0</td>\n",
       "      <td>10806.55</td>\n",
       "      <td>10806.55</td>\n",
       "      <td>11</td>\n",
       "      <td>P018 - P01 Airport Carpark</td>\n",
       "    </tr>\n",
       "    <tr>\n",
       "      <th>4</th>\n",
       "      <td>2011-09-22</td>\n",
       "      <td>Survey Team  Inv - SI3630067</td>\n",
       "      <td>Surveyor</td>\n",
       "      <td>none</td>\n",
       "      <td>1.0</td>\n",
       "      <td>790.50</td>\n",
       "      <td>790.50</td>\n",
       "      <td>11</td>\n",
       "      <td>P018 - P01 Airport Carpark</td>\n",
       "    </tr>\n",
       "  </tbody>\n",
       "</table>\n",
       "</div>"
      ],
      "text/plain": [
       "  Resource Date          Resource Description                   Resource  \\\n",
       "0    2011-04-13   Survey Team - Inv SI3621340  Surveyor                    \n",
       "1    2011-06-28   Survey Team - Inv SI3624729  Surveyor                    \n",
       "2    2011-07-13   Survey Team - Inv SI3626127  Surveyor                    \n",
       "3    2011-08-15   Survey Team - Inv SI3627800  Surveyor                    \n",
       "4    2011-09-22  Survey Team  Inv - SI3630067  Surveyor                    \n",
       "\n",
       "   Unit  Resource Quantity      Rate     Total Portfolio WBS  \\\n",
       "0  none                1.0   1400.00   1400.00            11   \n",
       "1  none                1.0   4508.30   4508.30            11   \n",
       "2  none                1.0   3163.45   3163.45            11   \n",
       "3  none                1.0  10806.55  10806.55            11   \n",
       "4  none                1.0    790.50    790.50            11   \n",
       "\n",
       "                 Project Name  \n",
       "0  P018 - P01 Airport Carpark  \n",
       "1  P018 - P01 Airport Carpark  \n",
       "2  P018 - P01 Airport Carpark  \n",
       "3  P018 - P01 Airport Carpark  \n",
       "4  P018 - P01 Airport Carpark  "
      ]
     },
     "execution_count": 16,
     "metadata": {},
     "output_type": "execute_result"
    }
   ],
   "source": [
    "filtered_df.head()"
   ]
  },
  {
   "cell_type": "code",
   "execution_count": 17,
   "id": "07d7b462-3e6b-407f-bd8d-0a5b8895fe7d",
   "metadata": {},
   "outputs": [],
   "source": [
    "filtered_df.to_excel('C:/Users/abdul/Documents/GitHub/Data-Driven-Project-Management/Capstone Project Code/Processed_Data/ActualCostSheetMerged.xlsx', index=False)"
   ]
  },
  {
   "cell_type": "code",
   "execution_count": 18,
   "id": "e075a642-2486-4d9e-8015-3b12f01cfe67",
   "metadata": {},
   "outputs": [],
   "source": [
    "df1 = pd.read_excel('C:/Users/abdul/Documents/GitHub/Data-Driven-Project-Management/Capstone Project Code/Processed_Data/ActualCostSheetMerged.xlsx')\n",
    "df2 = pd.read_excel('C:/Users/abdul/Documents/GitHub/Data-Driven-Project-Management/Capstone Project Code/Processed_Data/CleanedDataForVisualization.xlsx')"
   ]
  },
  {
   "cell_type": "code",
   "execution_count": 19,
   "id": "c9ea2dfa-09a2-4d27-9055-3423bb4dcce0",
   "metadata": {},
   "outputs": [
    {
     "data": {
      "text/plain": [
       "Resource Date             0\n",
       "Resource Description      0\n",
       "Resource                  0\n",
       "Unit                      1\n",
       "Resource Quantity        19\n",
       "Rate                    197\n",
       "Total                   224\n",
       "Portfolio WBS             0\n",
       "Project Name              0\n",
       "dtype: int64"
      ]
     },
     "execution_count": 19,
     "metadata": {},
     "output_type": "execute_result"
    }
   ],
   "source": [
    "df1.isnull().sum()"
   ]
  },
  {
   "cell_type": "code",
   "execution_count": 20,
   "id": "0536d14d-9c48-48fa-9a5e-d5975a0a1f32",
   "metadata": {},
   "outputs": [
    {
     "data": {
      "text/plain": [
       "Resource Date           datetime64[ns]\n",
       "Resource Description            object\n",
       "Resource                        object\n",
       "Unit                            object\n",
       "Resource Quantity              float64\n",
       "Rate                           float64\n",
       "Total                          float64\n",
       "Portfolio WBS                   object\n",
       "Project Name                    object\n",
       "dtype: object"
      ]
     },
     "execution_count": 20,
     "metadata": {},
     "output_type": "execute_result"
    }
   ],
   "source": [
    "df1.dtypes"
   ]
  },
  {
   "cell_type": "code",
   "execution_count": 21,
   "id": "75c3f7e5-2416-4a62-9dce-f58c92912daf",
   "metadata": {},
   "outputs": [
    {
     "data": {
      "text/plain": [
       "Portfolio WBS               object\n",
       "Description                 object\n",
       "Quantity                   float64\n",
       "UOM                         object\n",
       "BAC                        float64\n",
       "BAC Rate                   float64\n",
       "Final Qty (AQ)             float64\n",
       "Final Cost (AC)            float64\n",
       "Final Rate                 float64\n",
       "PQ                         float64\n",
       "PV                         float64\n",
       "AQ                         float64\n",
       "AC                         float64\n",
       "EV                         float64\n",
       "Date                datetime64[ns]\n",
       "Project Name                object\n",
       "Start                       object\n",
       "End                         object\n",
       "Planned Quantity           float64\n",
       "Planned Value              float64\n",
       "Actual Quantity            float64\n",
       "Actual Cost                float64\n",
       "Earned Value               float64\n",
       "Month                       object\n",
       "predicted_DT               float64\n",
       "predicted_RF               float64\n",
       "predicted_LR               float64\n",
       "predicted_SVM              float64\n",
       "_merge                      object\n",
       "Predicted                     bool\n",
       "dtype: object"
      ]
     },
     "execution_count": 21,
     "metadata": {},
     "output_type": "execute_result"
    }
   ],
   "source": [
    "df2.dtypes"
   ]
  },
  {
   "cell_type": "code",
   "execution_count": 22,
   "id": "437493e2-1840-4753-a0e4-7ca5a6100c0f",
   "metadata": {},
   "outputs": [],
   "source": [
    "df1['Portfolio WBS'] = df1['Portfolio WBS'].fillna('').astype(str)\n",
    "df1['Project Name'] = df1['Project Name'].astype(str)  # Ensure all values are strings\n",
    "\n",
    "df2['Portfolio WBS'] = df2['Portfolio WBS'].fillna('').astype(str)\n",
    "df2['Project Name'] = df2['Project Name'].astype(str)  # Ensure all values are strings"
   ]
  },
  {
   "cell_type": "code",
   "execution_count": 23,
   "id": "704c3e0f-7873-4f10-afe3-d81d4f5dd503",
   "metadata": {},
   "outputs": [],
   "source": [
    "df1['Portfolio WBS'] = df1['Portfolio WBS'].apply(lambda x: x.lower())\n",
    "df1['Project Name'] = df1['Project Name'].apply(lambda x: x.lower())\n",
    "\n",
    "df2['Portfolio WBS'] = df2['Portfolio WBS'].apply(lambda x: x.lower())\n",
    "df2['Project Name'] = df2['Project Name'].apply(lambda x: x.lower())"
   ]
  },
  {
   "cell_type": "code",
   "execution_count": 24,
   "id": "b60424f3-3b09-4950-ba77-a2d3a463f0e4",
   "metadata": {},
   "outputs": [
    {
     "data": {
      "text/plain": [
       "Resource Date             0\n",
       "Resource Description      0\n",
       "Resource                  0\n",
       "Unit                      1\n",
       "Resource Quantity        19\n",
       "Rate                    197\n",
       "Total                   224\n",
       "Portfolio WBS             0\n",
       "Project Name              0\n",
       "dtype: int64"
      ]
     },
     "execution_count": 24,
     "metadata": {},
     "output_type": "execute_result"
    }
   ],
   "source": [
    "df1.isnull().sum()"
   ]
  },
  {
   "cell_type": "code",
   "execution_count": 25,
   "id": "cc664310-31b1-46cd-b102-c8e21648d40a",
   "metadata": {},
   "outputs": [],
   "source": [
    "# Convert dates to appropriate format (if needed)\n",
    "df1['Month'] = pd.to_datetime(df1['Resource Date']).dt.to_period('M')\n",
    "df2['Month'] = pd.to_datetime(df2['Date']).dt.to_period('M')"
   ]
  },
  {
   "cell_type": "code",
   "execution_count": 26,
   "id": "4b244893-8fa0-4603-ac6e-d0de4d54dd66",
   "metadata": {},
   "outputs": [
    {
     "data": {
      "text/html": [
       "<div>\n",
       "<style scoped>\n",
       "    .dataframe tbody tr th:only-of-type {\n",
       "        vertical-align: middle;\n",
       "    }\n",
       "\n",
       "    .dataframe tbody tr th {\n",
       "        vertical-align: top;\n",
       "    }\n",
       "\n",
       "    .dataframe thead th {\n",
       "        text-align: right;\n",
       "    }\n",
       "</style>\n",
       "<table border=\"1\" class=\"dataframe\">\n",
       "  <thead>\n",
       "    <tr style=\"text-align: right;\">\n",
       "      <th></th>\n",
       "      <th>Portfolio WBS</th>\n",
       "      <th>Project Name</th>\n",
       "      <th>Month</th>\n",
       "    </tr>\n",
       "  </thead>\n",
       "  <tbody>\n",
       "    <tr>\n",
       "      <th>5</th>\n",
       "      <td>11</td>\n",
       "      <td>p018 - p01 airport carpark</td>\n",
       "      <td>2011-10</td>\n",
       "    </tr>\n",
       "    <tr>\n",
       "      <th>6</th>\n",
       "      <td>11</td>\n",
       "      <td>p018 - p01 airport carpark</td>\n",
       "      <td>2011-11</td>\n",
       "    </tr>\n",
       "    <tr>\n",
       "      <th>7</th>\n",
       "      <td>11</td>\n",
       "      <td>p018 - p01 airport carpark</td>\n",
       "      <td>2011-11</td>\n",
       "    </tr>\n",
       "    <tr>\n",
       "      <th>8</th>\n",
       "      <td>13</td>\n",
       "      <td>p018 - p01 airport carpark</td>\n",
       "      <td>2011-05</td>\n",
       "    </tr>\n",
       "    <tr>\n",
       "      <th>9</th>\n",
       "      <td>13</td>\n",
       "      <td>p018 - p01 airport carpark</td>\n",
       "      <td>2011-06</td>\n",
       "    </tr>\n",
       "  </tbody>\n",
       "</table>\n",
       "</div>"
      ],
      "text/plain": [
       "  Portfolio WBS                Project Name    Month\n",
       "5            11  p018 - p01 airport carpark  2011-10\n",
       "6            11  p018 - p01 airport carpark  2011-11\n",
       "7            11  p018 - p01 airport carpark  2011-11\n",
       "8            13  p018 - p01 airport carpark  2011-05\n",
       "9            13  p018 - p01 airport carpark  2011-06"
      ]
     },
     "execution_count": 26,
     "metadata": {},
     "output_type": "execute_result"
    }
   ],
   "source": [
    "df1[['Portfolio WBS', 'Project Name', 'Month']].iloc[5:10]"
   ]
  },
  {
   "cell_type": "code",
   "execution_count": 27,
   "id": "5a23b115-ff42-4266-8ede-9596bbb52019",
   "metadata": {
    "scrolled": true
   },
   "outputs": [
    {
     "data": {
      "text/html": [
       "<div>\n",
       "<style scoped>\n",
       "    .dataframe tbody tr th:only-of-type {\n",
       "        vertical-align: middle;\n",
       "    }\n",
       "\n",
       "    .dataframe tbody tr th {\n",
       "        vertical-align: top;\n",
       "    }\n",
       "\n",
       "    .dataframe thead th {\n",
       "        text-align: right;\n",
       "    }\n",
       "</style>\n",
       "<table border=\"1\" class=\"dataframe\">\n",
       "  <thead>\n",
       "    <tr style=\"text-align: right;\">\n",
       "      <th></th>\n",
       "      <th>Portfolio WBS</th>\n",
       "      <th>Project Name</th>\n",
       "      <th>Month</th>\n",
       "    </tr>\n",
       "  </thead>\n",
       "  <tbody>\n",
       "    <tr>\n",
       "      <th>5</th>\n",
       "      <td>11</td>\n",
       "      <td>p018 - p01 airport carpark</td>\n",
       "      <td>2011-10</td>\n",
       "    </tr>\n",
       "    <tr>\n",
       "      <th>6</th>\n",
       "      <td>11</td>\n",
       "      <td>p018 - p01 airport carpark</td>\n",
       "      <td>2011-11</td>\n",
       "    </tr>\n",
       "    <tr>\n",
       "      <th>7</th>\n",
       "      <td>13</td>\n",
       "      <td>p018 - p01 airport carpark</td>\n",
       "      <td>2011-05</td>\n",
       "    </tr>\n",
       "    <tr>\n",
       "      <th>8</th>\n",
       "      <td>13</td>\n",
       "      <td>p018 - p01 airport carpark</td>\n",
       "      <td>2011-06</td>\n",
       "    </tr>\n",
       "    <tr>\n",
       "      <th>9</th>\n",
       "      <td>13</td>\n",
       "      <td>p018 - p01 airport carpark</td>\n",
       "      <td>2011-07</td>\n",
       "    </tr>\n",
       "  </tbody>\n",
       "</table>\n",
       "</div>"
      ],
      "text/plain": [
       "  Portfolio WBS                Project Name    Month\n",
       "5            11  p018 - p01 airport carpark  2011-10\n",
       "6            11  p018 - p01 airport carpark  2011-11\n",
       "7            13  p018 - p01 airport carpark  2011-05\n",
       "8            13  p018 - p01 airport carpark  2011-06\n",
       "9            13  p018 - p01 airport carpark  2011-07"
      ]
     },
     "execution_count": 27,
     "metadata": {},
     "output_type": "execute_result"
    }
   ],
   "source": [
    "df2[['Portfolio WBS', 'Project Name', 'Month']].iloc[5:10]"
   ]
  },
  {
   "cell_type": "code",
   "execution_count": 28,
   "id": "a88c5132-d82c-4d6c-957a-d0a8fb41cc52",
   "metadata": {},
   "outputs": [
    {
     "name": "stdout",
     "output_type": "stream",
     "text": [
      "  Resource Date          Resource Description                   Resource  \\\n",
      "0    2011-04-13   Survey Team - Inv SI3621340  Surveyor                    \n",
      "1    2011-06-28   Survey Team - Inv SI3624729  Surveyor                    \n",
      "2    2011-07-13   Survey Team - Inv SI3626127  Surveyor                    \n",
      "3    2011-08-15   Survey Team - Inv SI3627800  Surveyor                    \n",
      "4    2011-09-22  Survey Team  Inv - SI3630067  Surveyor                    \n",
      "\n",
      "   Unit  Resource Quantity      Rate     Total Portfolio WBS  \\\n",
      "0  none                1.0   1400.00   1400.00            11   \n",
      "1  none                1.0   4508.30   4508.30            11   \n",
      "2  none                1.0   3163.45   3163.45            11   \n",
      "3  none                1.0  10806.55  10806.55            11   \n",
      "4  none                1.0    790.50    790.50            11   \n",
      "\n",
      "                 Project Name    Month  ... Planned Value  Actual Quantity  \\\n",
      "0  p018 - p01 airport carpark  2011-04  ...       2519.15              7.6   \n",
      "1  p018 - p01 airport carpark  2011-06  ...       6297.87             24.3   \n",
      "2  p018 - p01 airport carpark  2011-07  ...       3778.72             17.1   \n",
      "3  p018 - p01 airport carpark  2011-08  ...       5038.30             58.4   \n",
      "4  p018 - p01 airport carpark  2011-09  ...       5038.30              4.3   \n",
      "\n",
      "  Actual Cost  Earned Value  predicted_DT  predicted_RF  predicted_LR  \\\n",
      "0     1400.00   1232.657534       3058.72       2155.80        577.97   \n",
      "1     4508.30   3941.260274       5629.51       4702.71       4850.67   \n",
      "2     3163.45   2773.479452       3058.72       2685.77       2338.94   \n",
      "3    10806.55   9472.000000       3058.72       7975.93      10375.69   \n",
      "4      790.50    697.424658       1654.63       2912.43       1406.43   \n",
      "\n",
      "   predicted_SVM  _merge  Predicted  \n",
      "0        2565.94    both       True  \n",
      "1        5056.96    both       True  \n",
      "2        2656.28    both       True  \n",
      "3        6229.62    both       True  \n",
      "4        2370.42    both       True  \n",
      "\n",
      "[5 rows x 37 columns]\n"
     ]
    }
   ],
   "source": [
    "# Merge the dataframes\n",
    "merged_df = pd.merge(df1, df2, on=['Portfolio WBS', 'Project Name', 'Month'], how='inner')\n",
    "\n",
    "# Optionally, you can reset index if needed\n",
    "merged_df = merged_df.reset_index(drop=True)\n",
    "\n",
    "# Display or further process merged_df as needed\n",
    "print(merged_df.head())"
   ]
  },
  {
   "cell_type": "code",
   "execution_count": 29,
   "id": "2a180bcf-68c3-4a2b-b246-8157bed27a7b",
   "metadata": {},
   "outputs": [
    {
     "data": {
      "text/plain": [
       "16237"
      ]
     },
     "execution_count": 29,
     "metadata": {},
     "output_type": "execute_result"
    }
   ],
   "source": [
    "len(merged_df)"
   ]
  },
  {
   "cell_type": "markdown",
   "id": "8123f9db-6b56-4136-8a99-211d1baa54c6",
   "metadata": {},
   "source": [
    "import numpy as np\n",
    "filtered_df = merged_df[~(merged_df.select_dtypes(include=[np.number]) < 0).any(axis=1)]\n",
    "\n",
    "print(\"\\nLength of dataset after removing negative rows\")\n",
    "print(len(filtered_df))"
   ]
  },
  {
   "cell_type": "code",
   "execution_count": 30,
   "id": "129c0c4f-eaf9-4c92-be03-089c355f6b2d",
   "metadata": {},
   "outputs": [],
   "source": [
    "merged_df.loc[:,'Resource Date'] = merged_df['Resource Date'].dt.date\n",
    "merged_df.loc[:,'Date'] = merged_df['Date'].dt.date"
   ]
  },
  {
   "cell_type": "code",
   "execution_count": 31,
   "id": "e4579ec9-2477-4dab-adfa-f1e6b244cef9",
   "metadata": {},
   "outputs": [],
   "source": [
    "merged_df.to_excel('C:/Users/abdul/Documents/GitHub/Data-Driven-Project-Management/Capstone Project Code/Processed_Data/FinalDataForVisualization.xlsx', index=False)"
   ]
  },
  {
   "cell_type": "code",
   "execution_count": 32,
   "id": "393a3719-67da-4859-9519-43f348911436",
   "metadata": {},
   "outputs": [
    {
     "data": {
      "text/html": [
       "<div>\n",
       "<style scoped>\n",
       "    .dataframe tbody tr th:only-of-type {\n",
       "        vertical-align: middle;\n",
       "    }\n",
       "\n",
       "    .dataframe tbody tr th {\n",
       "        vertical-align: top;\n",
       "    }\n",
       "\n",
       "    .dataframe thead th {\n",
       "        text-align: right;\n",
       "    }\n",
       "</style>\n",
       "<table border=\"1\" class=\"dataframe\">\n",
       "  <thead>\n",
       "    <tr style=\"text-align: right;\">\n",
       "      <th></th>\n",
       "      <th>Portfolio WBS</th>\n",
       "      <th>Project Name</th>\n",
       "      <th>Month</th>\n",
       "    </tr>\n",
       "  </thead>\n",
       "  <tbody>\n",
       "    <tr>\n",
       "      <th>5</th>\n",
       "      <td>11</td>\n",
       "      <td>p018 - p01 airport carpark</td>\n",
       "      <td>2011-10</td>\n",
       "    </tr>\n",
       "    <tr>\n",
       "      <th>6</th>\n",
       "      <td>11</td>\n",
       "      <td>p018 - p01 airport carpark</td>\n",
       "      <td>2011-11</td>\n",
       "    </tr>\n",
       "    <tr>\n",
       "      <th>7</th>\n",
       "      <td>11</td>\n",
       "      <td>p018 - p01 airport carpark</td>\n",
       "      <td>2011-11</td>\n",
       "    </tr>\n",
       "    <tr>\n",
       "      <th>8</th>\n",
       "      <td>13</td>\n",
       "      <td>p018 - p01 airport carpark</td>\n",
       "      <td>2011-05</td>\n",
       "    </tr>\n",
       "    <tr>\n",
       "      <th>9</th>\n",
       "      <td>13</td>\n",
       "      <td>p018 - p01 airport carpark</td>\n",
       "      <td>2011-06</td>\n",
       "    </tr>\n",
       "  </tbody>\n",
       "</table>\n",
       "</div>"
      ],
      "text/plain": [
       "  Portfolio WBS                Project Name    Month\n",
       "5            11  p018 - p01 airport carpark  2011-10\n",
       "6            11  p018 - p01 airport carpark  2011-11\n",
       "7            11  p018 - p01 airport carpark  2011-11\n",
       "8            13  p018 - p01 airport carpark  2011-05\n",
       "9            13  p018 - p01 airport carpark  2011-06"
      ]
     },
     "execution_count": 32,
     "metadata": {},
     "output_type": "execute_result"
    }
   ],
   "source": [
    "merged_df[['Portfolio WBS', 'Project Name', 'Month']].iloc[5:10]"
   ]
  }
 ],
 "metadata": {
  "kernelspec": {
   "display_name": "Python 3 (ipykernel)",
   "language": "python",
   "name": "python3"
  },
  "language_info": {
   "codemirror_mode": {
    "name": "ipython",
    "version": 3
   },
   "file_extension": ".py",
   "mimetype": "text/x-python",
   "name": "python",
   "nbconvert_exporter": "python",
   "pygments_lexer": "ipython3",
   "version": "3.11.5"
  }
 },
 "nbformat": 4,
 "nbformat_minor": 5
}
